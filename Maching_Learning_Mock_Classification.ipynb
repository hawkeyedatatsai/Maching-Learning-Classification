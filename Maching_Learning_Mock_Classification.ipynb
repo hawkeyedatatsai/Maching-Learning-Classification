{
  "nbformat": 4,
  "nbformat_minor": 0,
  "metadata": {
    "colab": {
      "provenance": [],
      "authorship_tag": "ABX9TyMYE+nZUJ2E0DMrZZ00vKo1",
      "include_colab_link": true
    },
    "kernelspec": {
      "name": "python3",
      "display_name": "Python 3"
    },
    "language_info": {
      "name": "python"
    }
  },
  "cells": [
    {
      "cell_type": "markdown",
      "metadata": {
        "id": "view-in-github",
        "colab_type": "text"
      },
      "source": [
        "<a href=\"https://colab.research.google.com/github/hawkeyedatatsai/Maching-Learning-Mock-Classification/blob/main/Maching_Learning_Mock_Classification.ipynb\" target=\"_parent\"><img src=\"https://colab.research.google.com/assets/colab-badge.svg\" alt=\"Open In Colab\"/></a>"
      ]
    },
    {
      "cell_type": "markdown",
      "source": [
        "\n",
        "Your task is to use [this dataset](https://docs.google.com/spreadsheets/d/e/2PACX-1vTAQMDlyQdVuWy9le6OcM14fIZdQKg0s_PXhWUYIjUoB_rFpOz9Sv0K05ryiIQkTezghYtkLj6maFCW/pub?output=csv) to predict the fires using data from a smoke detector. The original dataset is from Kaggle."
      ],
      "metadata": {
        "id": "owgplA3LpyIG"
      }
    },
    {
      "cell_type": "code",
      "source": [
        "import matplotlib.pyplot as plt\n",
        "import seaborn as sns\n",
        "import pandas as pd\n",
        "import numpy as np\n",
        "from sklearn.model_selection import train_test_split, cross_val_score, GridSearchCV\n",
        "from sklearn.preprocessing import StandardScaler\n",
        "from sklearn.pipeline import make_pipeline\n",
        "from sklearn.compose import make_column_transformer, make_column_selector\n",
        "from sklearn.dummy import DummyRegressor\n",
        "from sklearn.linear_model import LogisticRegression\n",
        "from sklearn.neighbors import KNeighborsClassifier\n",
        "from sklearn.metrics import classification_report, precision_score, recall_score, accuracy_score\n",
        "from sklearn.metrics import ConfusionMatrixDisplay, confusion_matrix, roc_auc_score \n",
        "from IPython.core.display import clear_output\n",
        "df = pd.read_csv(\"/content/2-smoke_detection_iot_BELT - smoke_detection_iot_BELT.csv\")\n",
        "print(df.shape)\n",
        "print(\"\\n\")\n",
        "print(df.info())\n",
        "print(\"\\n\")\n",
        "df.head()"
      ],
      "metadata": {
        "colab": {
          "base_uri": "https://localhost:8080/",
          "height": 790
        },
        "id": "jLy7PPf1RlOg",
        "outputId": "3750d54f-403d-4e0d-bf63-65e300cef38c"
      },
      "execution_count": 1,
      "outputs": [
        {
          "output_type": "stream",
          "name": "stdout",
          "text": [
            "(62633, 15)\n",
            "\n",
            "\n",
            "<class 'pandas.core.frame.DataFrame'>\n",
            "RangeIndex: 62633 entries, 0 to 62632\n",
            "Data columns (total 15 columns):\n",
            " #   Column          Non-Null Count  Dtype  \n",
            "---  ------          --------------  -----  \n",
            " 0   Unnamed: 0      62633 non-null  int64  \n",
            " 1   UTC             62633 non-null  int64  \n",
            " 2   Temperature[C]  43843 non-null  float64\n",
            " 3   Humidity[%]     51985 non-null  float64\n",
            " 4   eCO2[ppm]       62633 non-null  int64  \n",
            " 5   Raw H2          47602 non-null  float64\n",
            " 6   Raw Ethanol     62633 non-null  object \n",
            " 7   Pressure[hPa]   62633 non-null  object \n",
            " 8   PM1.0           62633 non-null  float64\n",
            " 9   PM2.5           62633 non-null  float64\n",
            " 10  NC0.5           62633 non-null  float64\n",
            " 11  NC1.0           62633 non-null  float64\n",
            " 12  NC2.5           62633 non-null  float64\n",
            " 13  CNT             62633 non-null  int64  \n",
            " 14  Fire Alarm      62633 non-null  int64  \n",
            "dtypes: float64(8), int64(5), object(2)\n",
            "memory usage: 7.2+ MB\n",
            "None\n",
            "\n",
            "\n"
          ]
        },
        {
          "output_type": "execute_result",
          "data": {
            "text/plain": [
              "   Unnamed: 0         UTC  Temperature[C]  Humidity[%]  eCO2[ppm]   Raw H2  \\\n",
              "0           0  1655127852          12.235        43.30        400  13314.0   \n",
              "1           1  1654777894          24.580        53.32        400  12889.0   \n",
              "2           2  1654785729          26.920          NaN        406  12989.0   \n",
              "3           3  1654773681          24.900        51.13        577      NaN   \n",
              "4           4  1654779348          26.390        50.65        400  12910.0   \n",
              "\n",
              "  Raw Ethanol Pressure[hPa]  PM1.0  PM2.5  NC0.5  NC1.0  NC2.5    CNT  \\\n",
              "0        High           med   1.71   1.78  11.77  1.835  0.041   3544   \n",
              "1         Low          High   1.71   1.78  11.79  1.838  0.042  16551   \n",
              "2         Low          High   1.95   2.03  13.43  2.095  0.047  24386   \n",
              "3         Low          High   2.31   2.40  15.91  2.481  0.056  12338   \n",
              "4         Low          High   1.72   1.79  11.85  1.848  0.042  18005   \n",
              "\n",
              "   Fire Alarm  \n",
              "0           0  \n",
              "1           1  \n",
              "2           1  \n",
              "3           1  \n",
              "4           1  "
            ],
            "text/html": [
              "\n",
              "  <div id=\"df-574fe853-d790-4047-9df9-09c031986a3d\">\n",
              "    <div class=\"colab-df-container\">\n",
              "      <div>\n",
              "<style scoped>\n",
              "    .dataframe tbody tr th:only-of-type {\n",
              "        vertical-align: middle;\n",
              "    }\n",
              "\n",
              "    .dataframe tbody tr th {\n",
              "        vertical-align: top;\n",
              "    }\n",
              "\n",
              "    .dataframe thead th {\n",
              "        text-align: right;\n",
              "    }\n",
              "</style>\n",
              "<table border=\"1\" class=\"dataframe\">\n",
              "  <thead>\n",
              "    <tr style=\"text-align: right;\">\n",
              "      <th></th>\n",
              "      <th>Unnamed: 0</th>\n",
              "      <th>UTC</th>\n",
              "      <th>Temperature[C]</th>\n",
              "      <th>Humidity[%]</th>\n",
              "      <th>eCO2[ppm]</th>\n",
              "      <th>Raw H2</th>\n",
              "      <th>Raw Ethanol</th>\n",
              "      <th>Pressure[hPa]</th>\n",
              "      <th>PM1.0</th>\n",
              "      <th>PM2.5</th>\n",
              "      <th>NC0.5</th>\n",
              "      <th>NC1.0</th>\n",
              "      <th>NC2.5</th>\n",
              "      <th>CNT</th>\n",
              "      <th>Fire Alarm</th>\n",
              "    </tr>\n",
              "  </thead>\n",
              "  <tbody>\n",
              "    <tr>\n",
              "      <th>0</th>\n",
              "      <td>0</td>\n",
              "      <td>1655127852</td>\n",
              "      <td>12.235</td>\n",
              "      <td>43.30</td>\n",
              "      <td>400</td>\n",
              "      <td>13314.0</td>\n",
              "      <td>High</td>\n",
              "      <td>med</td>\n",
              "      <td>1.71</td>\n",
              "      <td>1.78</td>\n",
              "      <td>11.77</td>\n",
              "      <td>1.835</td>\n",
              "      <td>0.041</td>\n",
              "      <td>3544</td>\n",
              "      <td>0</td>\n",
              "    </tr>\n",
              "    <tr>\n",
              "      <th>1</th>\n",
              "      <td>1</td>\n",
              "      <td>1654777894</td>\n",
              "      <td>24.580</td>\n",
              "      <td>53.32</td>\n",
              "      <td>400</td>\n",
              "      <td>12889.0</td>\n",
              "      <td>Low</td>\n",
              "      <td>High</td>\n",
              "      <td>1.71</td>\n",
              "      <td>1.78</td>\n",
              "      <td>11.79</td>\n",
              "      <td>1.838</td>\n",
              "      <td>0.042</td>\n",
              "      <td>16551</td>\n",
              "      <td>1</td>\n",
              "    </tr>\n",
              "    <tr>\n",
              "      <th>2</th>\n",
              "      <td>2</td>\n",
              "      <td>1654785729</td>\n",
              "      <td>26.920</td>\n",
              "      <td>NaN</td>\n",
              "      <td>406</td>\n",
              "      <td>12989.0</td>\n",
              "      <td>Low</td>\n",
              "      <td>High</td>\n",
              "      <td>1.95</td>\n",
              "      <td>2.03</td>\n",
              "      <td>13.43</td>\n",
              "      <td>2.095</td>\n",
              "      <td>0.047</td>\n",
              "      <td>24386</td>\n",
              "      <td>1</td>\n",
              "    </tr>\n",
              "    <tr>\n",
              "      <th>3</th>\n",
              "      <td>3</td>\n",
              "      <td>1654773681</td>\n",
              "      <td>24.900</td>\n",
              "      <td>51.13</td>\n",
              "      <td>577</td>\n",
              "      <td>NaN</td>\n",
              "      <td>Low</td>\n",
              "      <td>High</td>\n",
              "      <td>2.31</td>\n",
              "      <td>2.40</td>\n",
              "      <td>15.91</td>\n",
              "      <td>2.481</td>\n",
              "      <td>0.056</td>\n",
              "      <td>12338</td>\n",
              "      <td>1</td>\n",
              "    </tr>\n",
              "    <tr>\n",
              "      <th>4</th>\n",
              "      <td>4</td>\n",
              "      <td>1654779348</td>\n",
              "      <td>26.390</td>\n",
              "      <td>50.65</td>\n",
              "      <td>400</td>\n",
              "      <td>12910.0</td>\n",
              "      <td>Low</td>\n",
              "      <td>High</td>\n",
              "      <td>1.72</td>\n",
              "      <td>1.79</td>\n",
              "      <td>11.85</td>\n",
              "      <td>1.848</td>\n",
              "      <td>0.042</td>\n",
              "      <td>18005</td>\n",
              "      <td>1</td>\n",
              "    </tr>\n",
              "  </tbody>\n",
              "</table>\n",
              "</div>\n",
              "      <button class=\"colab-df-convert\" onclick=\"convertToInteractive('df-574fe853-d790-4047-9df9-09c031986a3d')\"\n",
              "              title=\"Convert this dataframe to an interactive table.\"\n",
              "              style=\"display:none;\">\n",
              "        \n",
              "  <svg xmlns=\"http://www.w3.org/2000/svg\" height=\"24px\"viewBox=\"0 0 24 24\"\n",
              "       width=\"24px\">\n",
              "    <path d=\"M0 0h24v24H0V0z\" fill=\"none\"/>\n",
              "    <path d=\"M18.56 5.44l.94 2.06.94-2.06 2.06-.94-2.06-.94-.94-2.06-.94 2.06-2.06.94zm-11 1L8.5 8.5l.94-2.06 2.06-.94-2.06-.94L8.5 2.5l-.94 2.06-2.06.94zm10 10l.94 2.06.94-2.06 2.06-.94-2.06-.94-.94-2.06-.94 2.06-2.06.94z\"/><path d=\"M17.41 7.96l-1.37-1.37c-.4-.4-.92-.59-1.43-.59-.52 0-1.04.2-1.43.59L10.3 9.45l-7.72 7.72c-.78.78-.78 2.05 0 2.83L4 21.41c.39.39.9.59 1.41.59.51 0 1.02-.2 1.41-.59l7.78-7.78 2.81-2.81c.8-.78.8-2.07 0-2.86zM5.41 20L4 18.59l7.72-7.72 1.47 1.35L5.41 20z\"/>\n",
              "  </svg>\n",
              "      </button>\n",
              "      \n",
              "  <style>\n",
              "    .colab-df-container {\n",
              "      display:flex;\n",
              "      flex-wrap:wrap;\n",
              "      gap: 12px;\n",
              "    }\n",
              "\n",
              "    .colab-df-convert {\n",
              "      background-color: #E8F0FE;\n",
              "      border: none;\n",
              "      border-radius: 50%;\n",
              "      cursor: pointer;\n",
              "      display: none;\n",
              "      fill: #1967D2;\n",
              "      height: 32px;\n",
              "      padding: 0 0 0 0;\n",
              "      width: 32px;\n",
              "    }\n",
              "\n",
              "    .colab-df-convert:hover {\n",
              "      background-color: #E2EBFA;\n",
              "      box-shadow: 0px 1px 2px rgba(60, 64, 67, 0.3), 0px 1px 3px 1px rgba(60, 64, 67, 0.15);\n",
              "      fill: #174EA6;\n",
              "    }\n",
              "\n",
              "    [theme=dark] .colab-df-convert {\n",
              "      background-color: #3B4455;\n",
              "      fill: #D2E3FC;\n",
              "    }\n",
              "\n",
              "    [theme=dark] .colab-df-convert:hover {\n",
              "      background-color: #434B5C;\n",
              "      box-shadow: 0px 1px 3px 1px rgba(0, 0, 0, 0.15);\n",
              "      filter: drop-shadow(0px 1px 2px rgba(0, 0, 0, 0.3));\n",
              "      fill: #FFFFFF;\n",
              "    }\n",
              "  </style>\n",
              "\n",
              "      <script>\n",
              "        const buttonEl =\n",
              "          document.querySelector('#df-574fe853-d790-4047-9df9-09c031986a3d button.colab-df-convert');\n",
              "        buttonEl.style.display =\n",
              "          google.colab.kernel.accessAllowed ? 'block' : 'none';\n",
              "\n",
              "        async function convertToInteractive(key) {\n",
              "          const element = document.querySelector('#df-574fe853-d790-4047-9df9-09c031986a3d');\n",
              "          const dataTable =\n",
              "            await google.colab.kernel.invokeFunction('convertToInteractive',\n",
              "                                                     [key], {});\n",
              "          if (!dataTable) return;\n",
              "\n",
              "          const docLinkHtml = 'Like what you see? Visit the ' +\n",
              "            '<a target=\"_blank\" href=https://colab.research.google.com/notebooks/data_table.ipynb>data table notebook</a>'\n",
              "            + ' to learn more about interactive tables.';\n",
              "          element.innerHTML = '';\n",
              "          dataTable['output_type'] = 'display_data';\n",
              "          await google.colab.output.renderOutput(dataTable, element);\n",
              "          const docLink = document.createElement('div');\n",
              "          docLink.innerHTML = docLinkHtml;\n",
              "          element.appendChild(docLink);\n",
              "        }\n",
              "      </script>\n",
              "    </div>\n",
              "  </div>\n",
              "  "
            ]
          },
          "metadata": {},
          "execution_count": 1
        }
      ]
    },
    {
      "cell_type": "code",
      "source": [
        "df = df.drop([\"Unnamed: 0\", 'UTC'], axis=1)\n",
        "df.describe()"
      ],
      "metadata": {
        "colab": {
          "base_uri": "https://localhost:8080/",
          "height": 364
        },
        "id": "1vwoWapuf8MX",
        "outputId": "9a567cdc-001f-4717-cf67-67e8e4bf39c9"
      },
      "execution_count": 2,
      "outputs": [
        {
          "output_type": "execute_result",
          "data": {
            "text/plain": [
              "       Temperature[C]   Humidity[%]     eCO2[ppm]        Raw H2         PM1.0  \\\n",
              "count    43843.000000  51985.000000  62633.000000  47602.000000  62633.000000   \n",
              "mean        15.952252     48.462203    670.008398  12943.810491    100.589507   \n",
              "std         14.361454      9.368010   1905.840671    270.421548    922.502411   \n",
              "min        -22.010000    -60.980000    400.000000  10668.000000      0.000000   \n",
              "25%         10.932000     47.530000    400.000000  12831.000000      1.280000   \n",
              "50%         20.124000     50.160000    400.000000  12924.000000      1.810000   \n",
              "75%         25.415000     53.240000    438.000000  13109.000000      2.090000   \n",
              "max         59.930000     75.200000  60000.000000  13803.000000  14333.690000   \n",
              "\n",
              "              PM2.5         NC0.5         NC1.0         NC2.5           CNT  \\\n",
              "count  62633.000000  62633.000000  62633.000000  62633.000000  62633.000000   \n",
              "mean     184.458999    491.440068    203.576810     80.045255  10510.883943   \n",
              "std     1976.258689   4265.560446   2214.685955   1083.357380   7598.035549   \n",
              "min        0.000000      0.000000      0.000000      0.000000      0.000000   \n",
              "25%        1.340000      8.820000      1.384000      0.033000   3625.000000   \n",
              "50%        1.880000     12.450000      1.943000      0.044000   9335.000000   \n",
              "75%        2.180000     14.420000      2.249000      0.051000  17164.000000   \n",
              "max    45432.260000  61482.030000  51914.680000  30026.438000  24993.000000   \n",
              "\n",
              "         Fire Alarm  \n",
              "count  62633.000000  \n",
              "mean       0.714591  \n",
              "std        0.451612  \n",
              "min        0.000000  \n",
              "25%        0.000000  \n",
              "50%        1.000000  \n",
              "75%        1.000000  \n",
              "max        1.000000  "
            ],
            "text/html": [
              "\n",
              "  <div id=\"df-e0e1f0ba-2a18-4a52-84d7-bb3e55596a3c\">\n",
              "    <div class=\"colab-df-container\">\n",
              "      <div>\n",
              "<style scoped>\n",
              "    .dataframe tbody tr th:only-of-type {\n",
              "        vertical-align: middle;\n",
              "    }\n",
              "\n",
              "    .dataframe tbody tr th {\n",
              "        vertical-align: top;\n",
              "    }\n",
              "\n",
              "    .dataframe thead th {\n",
              "        text-align: right;\n",
              "    }\n",
              "</style>\n",
              "<table border=\"1\" class=\"dataframe\">\n",
              "  <thead>\n",
              "    <tr style=\"text-align: right;\">\n",
              "      <th></th>\n",
              "      <th>Temperature[C]</th>\n",
              "      <th>Humidity[%]</th>\n",
              "      <th>eCO2[ppm]</th>\n",
              "      <th>Raw H2</th>\n",
              "      <th>PM1.0</th>\n",
              "      <th>PM2.5</th>\n",
              "      <th>NC0.5</th>\n",
              "      <th>NC1.0</th>\n",
              "      <th>NC2.5</th>\n",
              "      <th>CNT</th>\n",
              "      <th>Fire Alarm</th>\n",
              "    </tr>\n",
              "  </thead>\n",
              "  <tbody>\n",
              "    <tr>\n",
              "      <th>count</th>\n",
              "      <td>43843.000000</td>\n",
              "      <td>51985.000000</td>\n",
              "      <td>62633.000000</td>\n",
              "      <td>47602.000000</td>\n",
              "      <td>62633.000000</td>\n",
              "      <td>62633.000000</td>\n",
              "      <td>62633.000000</td>\n",
              "      <td>62633.000000</td>\n",
              "      <td>62633.000000</td>\n",
              "      <td>62633.000000</td>\n",
              "      <td>62633.000000</td>\n",
              "    </tr>\n",
              "    <tr>\n",
              "      <th>mean</th>\n",
              "      <td>15.952252</td>\n",
              "      <td>48.462203</td>\n",
              "      <td>670.008398</td>\n",
              "      <td>12943.810491</td>\n",
              "      <td>100.589507</td>\n",
              "      <td>184.458999</td>\n",
              "      <td>491.440068</td>\n",
              "      <td>203.576810</td>\n",
              "      <td>80.045255</td>\n",
              "      <td>10510.883943</td>\n",
              "      <td>0.714591</td>\n",
              "    </tr>\n",
              "    <tr>\n",
              "      <th>std</th>\n",
              "      <td>14.361454</td>\n",
              "      <td>9.368010</td>\n",
              "      <td>1905.840671</td>\n",
              "      <td>270.421548</td>\n",
              "      <td>922.502411</td>\n",
              "      <td>1976.258689</td>\n",
              "      <td>4265.560446</td>\n",
              "      <td>2214.685955</td>\n",
              "      <td>1083.357380</td>\n",
              "      <td>7598.035549</td>\n",
              "      <td>0.451612</td>\n",
              "    </tr>\n",
              "    <tr>\n",
              "      <th>min</th>\n",
              "      <td>-22.010000</td>\n",
              "      <td>-60.980000</td>\n",
              "      <td>400.000000</td>\n",
              "      <td>10668.000000</td>\n",
              "      <td>0.000000</td>\n",
              "      <td>0.000000</td>\n",
              "      <td>0.000000</td>\n",
              "      <td>0.000000</td>\n",
              "      <td>0.000000</td>\n",
              "      <td>0.000000</td>\n",
              "      <td>0.000000</td>\n",
              "    </tr>\n",
              "    <tr>\n",
              "      <th>25%</th>\n",
              "      <td>10.932000</td>\n",
              "      <td>47.530000</td>\n",
              "      <td>400.000000</td>\n",
              "      <td>12831.000000</td>\n",
              "      <td>1.280000</td>\n",
              "      <td>1.340000</td>\n",
              "      <td>8.820000</td>\n",
              "      <td>1.384000</td>\n",
              "      <td>0.033000</td>\n",
              "      <td>3625.000000</td>\n",
              "      <td>0.000000</td>\n",
              "    </tr>\n",
              "    <tr>\n",
              "      <th>50%</th>\n",
              "      <td>20.124000</td>\n",
              "      <td>50.160000</td>\n",
              "      <td>400.000000</td>\n",
              "      <td>12924.000000</td>\n",
              "      <td>1.810000</td>\n",
              "      <td>1.880000</td>\n",
              "      <td>12.450000</td>\n",
              "      <td>1.943000</td>\n",
              "      <td>0.044000</td>\n",
              "      <td>9335.000000</td>\n",
              "      <td>1.000000</td>\n",
              "    </tr>\n",
              "    <tr>\n",
              "      <th>75%</th>\n",
              "      <td>25.415000</td>\n",
              "      <td>53.240000</td>\n",
              "      <td>438.000000</td>\n",
              "      <td>13109.000000</td>\n",
              "      <td>2.090000</td>\n",
              "      <td>2.180000</td>\n",
              "      <td>14.420000</td>\n",
              "      <td>2.249000</td>\n",
              "      <td>0.051000</td>\n",
              "      <td>17164.000000</td>\n",
              "      <td>1.000000</td>\n",
              "    </tr>\n",
              "    <tr>\n",
              "      <th>max</th>\n",
              "      <td>59.930000</td>\n",
              "      <td>75.200000</td>\n",
              "      <td>60000.000000</td>\n",
              "      <td>13803.000000</td>\n",
              "      <td>14333.690000</td>\n",
              "      <td>45432.260000</td>\n",
              "      <td>61482.030000</td>\n",
              "      <td>51914.680000</td>\n",
              "      <td>30026.438000</td>\n",
              "      <td>24993.000000</td>\n",
              "      <td>1.000000</td>\n",
              "    </tr>\n",
              "  </tbody>\n",
              "</table>\n",
              "</div>\n",
              "      <button class=\"colab-df-convert\" onclick=\"convertToInteractive('df-e0e1f0ba-2a18-4a52-84d7-bb3e55596a3c')\"\n",
              "              title=\"Convert this dataframe to an interactive table.\"\n",
              "              style=\"display:none;\">\n",
              "        \n",
              "  <svg xmlns=\"http://www.w3.org/2000/svg\" height=\"24px\"viewBox=\"0 0 24 24\"\n",
              "       width=\"24px\">\n",
              "    <path d=\"M0 0h24v24H0V0z\" fill=\"none\"/>\n",
              "    <path d=\"M18.56 5.44l.94 2.06.94-2.06 2.06-.94-2.06-.94-.94-2.06-.94 2.06-2.06.94zm-11 1L8.5 8.5l.94-2.06 2.06-.94-2.06-.94L8.5 2.5l-.94 2.06-2.06.94zm10 10l.94 2.06.94-2.06 2.06-.94-2.06-.94-.94-2.06-.94 2.06-2.06.94z\"/><path d=\"M17.41 7.96l-1.37-1.37c-.4-.4-.92-.59-1.43-.59-.52 0-1.04.2-1.43.59L10.3 9.45l-7.72 7.72c-.78.78-.78 2.05 0 2.83L4 21.41c.39.39.9.59 1.41.59.51 0 1.02-.2 1.41-.59l7.78-7.78 2.81-2.81c.8-.78.8-2.07 0-2.86zM5.41 20L4 18.59l7.72-7.72 1.47 1.35L5.41 20z\"/>\n",
              "  </svg>\n",
              "      </button>\n",
              "      \n",
              "  <style>\n",
              "    .colab-df-container {\n",
              "      display:flex;\n",
              "      flex-wrap:wrap;\n",
              "      gap: 12px;\n",
              "    }\n",
              "\n",
              "    .colab-df-convert {\n",
              "      background-color: #E8F0FE;\n",
              "      border: none;\n",
              "      border-radius: 50%;\n",
              "      cursor: pointer;\n",
              "      display: none;\n",
              "      fill: #1967D2;\n",
              "      height: 32px;\n",
              "      padding: 0 0 0 0;\n",
              "      width: 32px;\n",
              "    }\n",
              "\n",
              "    .colab-df-convert:hover {\n",
              "      background-color: #E2EBFA;\n",
              "      box-shadow: 0px 1px 2px rgba(60, 64, 67, 0.3), 0px 1px 3px 1px rgba(60, 64, 67, 0.15);\n",
              "      fill: #174EA6;\n",
              "    }\n",
              "\n",
              "    [theme=dark] .colab-df-convert {\n",
              "      background-color: #3B4455;\n",
              "      fill: #D2E3FC;\n",
              "    }\n",
              "\n",
              "    [theme=dark] .colab-df-convert:hover {\n",
              "      background-color: #434B5C;\n",
              "      box-shadow: 0px 1px 3px 1px rgba(0, 0, 0, 0.15);\n",
              "      filter: drop-shadow(0px 1px 2px rgba(0, 0, 0, 0.3));\n",
              "      fill: #FFFFFF;\n",
              "    }\n",
              "  </style>\n",
              "\n",
              "      <script>\n",
              "        const buttonEl =\n",
              "          document.querySelector('#df-e0e1f0ba-2a18-4a52-84d7-bb3e55596a3c button.colab-df-convert');\n",
              "        buttonEl.style.display =\n",
              "          google.colab.kernel.accessAllowed ? 'block' : 'none';\n",
              "\n",
              "        async function convertToInteractive(key) {\n",
              "          const element = document.querySelector('#df-e0e1f0ba-2a18-4a52-84d7-bb3e55596a3c');\n",
              "          const dataTable =\n",
              "            await google.colab.kernel.invokeFunction('convertToInteractive',\n",
              "                                                     [key], {});\n",
              "          if (!dataTable) return;\n",
              "\n",
              "          const docLinkHtml = 'Like what you see? Visit the ' +\n",
              "            '<a target=\"_blank\" href=https://colab.research.google.com/notebooks/data_table.ipynb>data table notebook</a>'\n",
              "            + ' to learn more about interactive tables.';\n",
              "          element.innerHTML = '';\n",
              "          dataTable['output_type'] = 'display_data';\n",
              "          await google.colab.output.renderOutput(dataTable, element);\n",
              "          const docLink = document.createElement('div');\n",
              "          docLink.innerHTML = docLinkHtml;\n",
              "          element.appendChild(docLink);\n",
              "        }\n",
              "      </script>\n",
              "    </div>\n",
              "  </div>\n",
              "  "
            ]
          },
          "metadata": {},
          "execution_count": 2
        }
      ]
    },
    {
      "cell_type": "code",
      "source": [
        "df.describe(include=\"object\" )"
      ],
      "metadata": {
        "colab": {
          "base_uri": "https://localhost:8080/",
          "height": 174
        },
        "id": "9XE5gddSg3Lm",
        "outputId": "f8ae11cb-d593-4913-d9e0-f4e4fcfb29b0"
      },
      "execution_count": 3,
      "outputs": [
        {
          "output_type": "execute_result",
          "data": {
            "text/plain": [
              "       Raw Ethanol Pressure[hPa]\n",
              "count        62633         62633\n",
              "unique           8             6\n",
              "top            Low          High\n",
              "freq         27581         39303"
            ],
            "text/html": [
              "\n",
              "  <div id=\"df-a4972031-d0f8-4d1e-9987-79d5c6795e3a\">\n",
              "    <div class=\"colab-df-container\">\n",
              "      <div>\n",
              "<style scoped>\n",
              "    .dataframe tbody tr th:only-of-type {\n",
              "        vertical-align: middle;\n",
              "    }\n",
              "\n",
              "    .dataframe tbody tr th {\n",
              "        vertical-align: top;\n",
              "    }\n",
              "\n",
              "    .dataframe thead th {\n",
              "        text-align: right;\n",
              "    }\n",
              "</style>\n",
              "<table border=\"1\" class=\"dataframe\">\n",
              "  <thead>\n",
              "    <tr style=\"text-align: right;\">\n",
              "      <th></th>\n",
              "      <th>Raw Ethanol</th>\n",
              "      <th>Pressure[hPa]</th>\n",
              "    </tr>\n",
              "  </thead>\n",
              "  <tbody>\n",
              "    <tr>\n",
              "      <th>count</th>\n",
              "      <td>62633</td>\n",
              "      <td>62633</td>\n",
              "    </tr>\n",
              "    <tr>\n",
              "      <th>unique</th>\n",
              "      <td>8</td>\n",
              "      <td>6</td>\n",
              "    </tr>\n",
              "    <tr>\n",
              "      <th>top</th>\n",
              "      <td>Low</td>\n",
              "      <td>High</td>\n",
              "    </tr>\n",
              "    <tr>\n",
              "      <th>freq</th>\n",
              "      <td>27581</td>\n",
              "      <td>39303</td>\n",
              "    </tr>\n",
              "  </tbody>\n",
              "</table>\n",
              "</div>\n",
              "      <button class=\"colab-df-convert\" onclick=\"convertToInteractive('df-a4972031-d0f8-4d1e-9987-79d5c6795e3a')\"\n",
              "              title=\"Convert this dataframe to an interactive table.\"\n",
              "              style=\"display:none;\">\n",
              "        \n",
              "  <svg xmlns=\"http://www.w3.org/2000/svg\" height=\"24px\"viewBox=\"0 0 24 24\"\n",
              "       width=\"24px\">\n",
              "    <path d=\"M0 0h24v24H0V0z\" fill=\"none\"/>\n",
              "    <path d=\"M18.56 5.44l.94 2.06.94-2.06 2.06-.94-2.06-.94-.94-2.06-.94 2.06-2.06.94zm-11 1L8.5 8.5l.94-2.06 2.06-.94-2.06-.94L8.5 2.5l-.94 2.06-2.06.94zm10 10l.94 2.06.94-2.06 2.06-.94-2.06-.94-.94-2.06-.94 2.06-2.06.94z\"/><path d=\"M17.41 7.96l-1.37-1.37c-.4-.4-.92-.59-1.43-.59-.52 0-1.04.2-1.43.59L10.3 9.45l-7.72 7.72c-.78.78-.78 2.05 0 2.83L4 21.41c.39.39.9.59 1.41.59.51 0 1.02-.2 1.41-.59l7.78-7.78 2.81-2.81c.8-.78.8-2.07 0-2.86zM5.41 20L4 18.59l7.72-7.72 1.47 1.35L5.41 20z\"/>\n",
              "  </svg>\n",
              "      </button>\n",
              "      \n",
              "  <style>\n",
              "    .colab-df-container {\n",
              "      display:flex;\n",
              "      flex-wrap:wrap;\n",
              "      gap: 12px;\n",
              "    }\n",
              "\n",
              "    .colab-df-convert {\n",
              "      background-color: #E8F0FE;\n",
              "      border: none;\n",
              "      border-radius: 50%;\n",
              "      cursor: pointer;\n",
              "      display: none;\n",
              "      fill: #1967D2;\n",
              "      height: 32px;\n",
              "      padding: 0 0 0 0;\n",
              "      width: 32px;\n",
              "    }\n",
              "\n",
              "    .colab-df-convert:hover {\n",
              "      background-color: #E2EBFA;\n",
              "      box-shadow: 0px 1px 2px rgba(60, 64, 67, 0.3), 0px 1px 3px 1px rgba(60, 64, 67, 0.15);\n",
              "      fill: #174EA6;\n",
              "    }\n",
              "\n",
              "    [theme=dark] .colab-df-convert {\n",
              "      background-color: #3B4455;\n",
              "      fill: #D2E3FC;\n",
              "    }\n",
              "\n",
              "    [theme=dark] .colab-df-convert:hover {\n",
              "      background-color: #434B5C;\n",
              "      box-shadow: 0px 1px 3px 1px rgba(0, 0, 0, 0.15);\n",
              "      filter: drop-shadow(0px 1px 2px rgba(0, 0, 0, 0.3));\n",
              "      fill: #FFFFFF;\n",
              "    }\n",
              "  </style>\n",
              "\n",
              "      <script>\n",
              "        const buttonEl =\n",
              "          document.querySelector('#df-a4972031-d0f8-4d1e-9987-79d5c6795e3a button.colab-df-convert');\n",
              "        buttonEl.style.display =\n",
              "          google.colab.kernel.accessAllowed ? 'block' : 'none';\n",
              "\n",
              "        async function convertToInteractive(key) {\n",
              "          const element = document.querySelector('#df-a4972031-d0f8-4d1e-9987-79d5c6795e3a');\n",
              "          const dataTable =\n",
              "            await google.colab.kernel.invokeFunction('convertToInteractive',\n",
              "                                                     [key], {});\n",
              "          if (!dataTable) return;\n",
              "\n",
              "          const docLinkHtml = 'Like what you see? Visit the ' +\n",
              "            '<a target=\"_blank\" href=https://colab.research.google.com/notebooks/data_table.ipynb>data table notebook</a>'\n",
              "            + ' to learn more about interactive tables.';\n",
              "          element.innerHTML = '';\n",
              "          dataTable['output_type'] = 'display_data';\n",
              "          await google.colab.output.renderOutput(dataTable, element);\n",
              "          const docLink = document.createElement('div');\n",
              "          docLink.innerHTML = docLinkHtml;\n",
              "          element.appendChild(docLink);\n",
              "        }\n",
              "      </script>\n",
              "    </div>\n",
              "  </div>\n",
              "  "
            ]
          },
          "metadata": {},
          "execution_count": 3
        }
      ]
    },
    {
      "cell_type": "markdown",
      "source": [
        "#Prepare/clean the data for exploratory analysis purposes:\n"
      ],
      "metadata": {
        "id": "M1GiuU7qqKA2"
      }
    },
    {
      "cell_type": "markdown",
      "source": [
        "##Check for missing values. You should produce an output that shows the number of missing values for each feature.\n"
      ],
      "metadata": {
        "id": "ciw3-nMbsQgu"
      }
    },
    {
      "cell_type": "code",
      "source": [
        "df.duplicated().sum()"
      ],
      "metadata": {
        "id": "1QMAeVk4ggoM",
        "colab": {
          "base_uri": "https://localhost:8080/"
        },
        "outputId": "c32f0575-a8e2-4ec9-d107-2655686d81f2"
      },
      "execution_count": 4,
      "outputs": [
        {
          "output_type": "execute_result",
          "data": {
            "text/plain": [
              "539"
            ]
          },
          "metadata": {},
          "execution_count": 4
        }
      ]
    },
    {
      "cell_type": "code",
      "source": [
        "df = df.drop_duplicates()\n",
        "df.duplicated().sum()"
      ],
      "metadata": {
        "colab": {
          "base_uri": "https://localhost:8080/"
        },
        "id": "jHZ_gFDp6Uam",
        "outputId": "8f6a9920-28f3-4c10-b7d2-52e638d1f626"
      },
      "execution_count": 7,
      "outputs": [
        {
          "output_type": "execute_result",
          "data": {
            "text/plain": [
              "0"
            ]
          },
          "metadata": {},
          "execution_count": 7
        }
      ]
    },
    {
      "cell_type": "markdown",
      "source": [
        "##For this task, handle missing values by using an appropriate imputation strategy (instead of dropping rows)."
      ],
      "metadata": {
        "id": "YEC5k98vsUH9"
      }
    },
    {
      "cell_type": "markdown",
      "source": [
        "##Write a justification of your strategy for imputing missing values."
      ],
      "metadata": {
        "id": "FQk6JZtosYrt"
      }
    },
    {
      "cell_type": "markdown",
      "source": [
        "##Make sure you avoid any data leakage when you impute values.\n"
      ],
      "metadata": {
        "id": "sq9YGhwNsaif"
      }
    },
    {
      "cell_type": "markdown",
      "source": [
        "##Ensure data types match the data types listed in the data dictionary (if given).\n"
      ],
      "metadata": {
        "id": "e1udtWTKscJe"
      }
    },
    {
      "cell_type": "markdown",
      "source": [
        "##Check for and address any inconsistent values in categorical columns."
      ],
      "metadata": {
        "id": "Xs9sC-ZrsPxW"
      }
    },
    {
      "cell_type": "markdown",
      "source": [
        "##Check for and address any impossible values in numeric columns."
      ],
      "metadata": {
        "id": "G8EaWCe5sgMB"
      }
    },
    {
      "cell_type": "markdown",
      "source": [
        "#Explore the data:\n"
      ],
      "metadata": {
        "id": "LFAT5qUIqMyd"
      }
    },
    {
      "cell_type": "markdown",
      "source": [
        "##Create at least two different types of exploratory visualizations.\n"
      ],
      "metadata": {
        "id": "H1riNARYsjfb"
      }
    },
    {
      "cell_type": "markdown",
      "source": [
        "##Write one to two sentences about what each visualization tells you about the data."
      ],
      "metadata": {
        "id": "t89bJPLbslFU"
      }
    },
    {
      "cell_type": "markdown",
      "source": [
        "#Prepare the data appropriately for modeling:\n"
      ],
      "metadata": {
        "id": "FE-bBirJqQMF"
      }
    },
    {
      "cell_type": "markdown",
      "source": [
        "##Implement a preprocessing pipeline to avoid data leakage.Scale the data if your model requires it.\n"
      ],
      "metadata": {
        "id": "WnbT0lXQsoH8"
      }
    },
    {
      "cell_type": "markdown",
      "source": [
        "##Write a justification for how you encode the variables (ordinal encoding vs one-hot encoding)."
      ],
      "metadata": {
        "id": "7-wmYcQ5ssMS"
      }
    },
    {
      "cell_type": "markdown",
      "source": [
        "#Create and compare at least 2 different models:\n"
      ],
      "metadata": {
        "id": "bPBUTYvVqSpl"
      }
    },
    {
      "cell_type": "markdown",
      "source": [
        "##Put your preprocessing and models into pipelines.\n"
      ],
      "metadata": {
        "id": "YMYZLqcNsvVE"
      }
    },
    {
      "cell_type": "markdown",
      "source": [
        "##For each model type, create a default version of each model with default hyperparameters.\n"
      ],
      "metadata": {
        "id": "EunBJO1vsxwE"
      }
    },
    {
      "cell_type": "markdown",
      "source": [
        "\n",
        "##Create additional versions of each model type where you tune hyperparameters for each model.\n"
      ],
      "metadata": {
        "id": "NCR7dx03s2i7"
      }
    },
    {
      "cell_type": "markdown",
      "source": [
        "##Use appropriate metrics to evaluate each model."
      ],
      "metadata": {
        "id": "SrLPD8o-s31L"
      }
    },
    {
      "cell_type": "markdown",
      "source": [
        "#Choose one final model:\n",
        "Write a justification of your choice of the final model."
      ],
      "metadata": {
        "id": "oGrOLygdpxMm"
      }
    },
    {
      "cell_type": "code",
      "execution_count": 4,
      "metadata": {
        "id": "GC5ZJXQjeBUv"
      },
      "outputs": [],
      "source": []
    }
  ]
}